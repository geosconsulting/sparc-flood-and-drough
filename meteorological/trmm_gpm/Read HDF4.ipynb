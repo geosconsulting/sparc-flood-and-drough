{
 "cells": [
  {
   "cell_type": "code",
   "execution_count": 7,
   "metadata": {},
   "outputs": [],
   "source": [
    "import os\n",
    "import matplotlib as mpl\n",
    "import matplotlib.pyplot as plt\n",
    "from mpl_toolkits.basemap import Basemap\n",
    "import numpy as np\n",
    "from pyhdf.SD import SD, SDC\n",
    "from matplotlib.pyplot import imshow"
   ]
  },
  {
   "cell_type": "code",
   "execution_count": 2,
   "metadata": {},
   "outputs": [],
   "source": [
    "# Open file.\n",
    "FILE_NAME = '3B43.19980101.7.hdf'\n",
    "hdf = SD(FILE_NAME, SDC.READ)\n",
    "\n",
    "# List available SDS datasets.\n",
    "print hdf.datasets()"
   ]
  },
  {
   "cell_type": "code",
   "execution_count": 16,
   "metadata": {},
   "outputs": [
    {
     "name": "stdout",
     "output_type": "stream",
     "text": [
      "{'nlat': 400, 'nlon': 1440}\n"
     ]
    }
   ],
   "source": [
    "# Read dataset.\n",
    "DATAFIELD_NAME = 'precipitation'\n",
    "pioggia = hdf.select(DATAFIELD_NAME)\n",
    "print pioggia.dimensions()"
   ]
  },
  {
   "cell_type": "code",
   "execution_count": 22,
   "metadata": {},
   "outputs": [],
   "source": [
    "#dir(pioggia)\n",
    "imshow(pioggia.get())\n",
    "plt.show()"
   ]
  }
 ],
 "metadata": {
  "kernelspec": {
   "display_name": "Python 2",
   "language": "python",
   "name": "python2"
  },
  "language_info": {
   "codemirror_mode": {
    "name": "ipython",
    "version": 2.0
   },
   "file_extension": ".py",
   "mimetype": "text/x-python",
   "name": "python",
   "nbconvert_exporter": "python",
   "pygments_lexer": "ipython2",
   "version": "2.7.5"
  }
 },
 "nbformat": 4,
 "nbformat_minor": 0
}